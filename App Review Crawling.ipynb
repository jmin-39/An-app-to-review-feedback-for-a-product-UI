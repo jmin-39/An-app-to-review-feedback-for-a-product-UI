{
 "cells": [
  {
   "cell_type": "markdown",
   "metadata": {},
   "source": [
    "# App Review Crawling"
   ]
  },
  {
   "cell_type": "markdown",
   "metadata": {},
   "source": [
    "## 1.  Load the libraries"
   ]
  },
  {
   "cell_type": "code",
   "execution_count": 1,
   "metadata": {},
   "outputs": [
    {
     "name": "stdout",
     "output_type": "stream",
     "text": [
      "Requirement already satisfied: googletrans==3.1.0a0 in ./opt/anaconda3/lib/python3.9/site-packages (3.1.0a0)\r\n",
      "Requirement already satisfied: httpx==0.13.3 in ./opt/anaconda3/lib/python3.9/site-packages (from googletrans==3.1.0a0) (0.13.3)\r\n",
      "Requirement already satisfied: certifi in ./opt/anaconda3/lib/python3.9/site-packages (from httpx==0.13.3->googletrans==3.1.0a0) (2022.9.24)\r\n",
      "Requirement already satisfied: sniffio in ./opt/anaconda3/lib/python3.9/site-packages (from httpx==0.13.3->googletrans==3.1.0a0) (1.2.0)\r\n",
      "Requirement already satisfied: rfc3986<2,>=1.3 in ./opt/anaconda3/lib/python3.9/site-packages (from httpx==0.13.3->googletrans==3.1.0a0) (1.5.0)\r\n",
      "Requirement already satisfied: idna==2.* in ./opt/anaconda3/lib/python3.9/site-packages (from httpx==0.13.3->googletrans==3.1.0a0) (2.10)\r\n",
      "Requirement already satisfied: chardet==3.* in ./opt/anaconda3/lib/python3.9/site-packages (from httpx==0.13.3->googletrans==3.1.0a0) (3.0.4)\r\n",
      "Requirement already satisfied: httpcore==0.9.* in ./opt/anaconda3/lib/python3.9/site-packages (from httpx==0.13.3->googletrans==3.1.0a0) (0.9.1)\r\n",
      "Requirement already satisfied: hstspreload in ./opt/anaconda3/lib/python3.9/site-packages (from httpx==0.13.3->googletrans==3.1.0a0) (2023.1.1)\r\n",
      "Requirement already satisfied: h11<0.10,>=0.8 in ./opt/anaconda3/lib/python3.9/site-packages (from httpcore==0.9.*->httpx==0.13.3->googletrans==3.1.0a0) (0.9.0)\r\n",
      "Requirement already satisfied: h2==3.* in ./opt/anaconda3/lib/python3.9/site-packages (from httpcore==0.9.*->httpx==0.13.3->googletrans==3.1.0a0) (3.2.0)\r\n",
      "Requirement already satisfied: hpack<4,>=3.0 in ./opt/anaconda3/lib/python3.9/site-packages (from h2==3.*->httpcore==0.9.*->httpx==0.13.3->googletrans==3.1.0a0) (3.0.0)\r\n",
      "Requirement already satisfied: hyperframe<6,>=5.2.0 in ./opt/anaconda3/lib/python3.9/site-packages (from h2==3.*->httpcore==0.9.*->httpx==0.13.3->googletrans==3.1.0a0) (5.2.0)\r\n"
     ]
    }
   ],
   "source": [
    "# install the necessary library\n",
    "!pip install googletrans==3.1.0a0"
   ]
  },
  {
   "cell_type": "code",
   "execution_count": 2,
   "metadata": {},
   "outputs": [],
   "source": [
    "import pandas as pd\n",
    "import xmltodict\n",
    "import requests\n",
    "import os\n",
    "import csv\n",
    "from urllib.request import urlopen\n",
    "\n",
    "from googletrans import Translator"
   ]
  },
  {
   "cell_type": "markdown",
   "metadata": {},
   "source": [
    "## 2. Creating an Apple Store crawler "
   ]
  },
  {
   "cell_type": "code",
   "execution_count": 3,
   "metadata": {},
   "outputs": [
    {
     "name": "stdout",
     "output_type": "stream",
     "text": [
      "https://itunes.apple.com/us/rss/customerreviews/page=1/id=1445504255/sortby=mostrecent/xml?urlDesc=/customerreviews/id=1445504255/sortBy=mostRecent/xml\n",
      "https://itunes.apple.com/us/rss/customerreviews/page=1/id=1445504255/sortby=mostrecent/xml?urlDesc=/customerreviews/id=1445504255/sortBy=mostRecent/xml\n",
      "Save reviews to file: appstore1445504255.csv \n",
      "\n"
     ]
    }
   ],
   "source": [
    "# -*- coding: utf-8 -*-\n",
    "def get_url_index(url):\n",
    "    response = requests.get(url).content.decode('utf8')\n",
    "    xml = xmltodict.parse(response)\n",
    "\n",
    "    last_url = [l['@href'] for l in xml['feed']['link'] if (l['@rel'] == 'last')][0]\n",
    "    last_index = [int(s.replace('page=', '')) for s in last_url.split('/') if ('page=' in s)][0]\n",
    "\n",
    "    return last_index\n",
    "\n",
    "\n",
    "def appstore_crawler(appid, outfile='./appstore_reviews.csv'):\n",
    "    #appid 1445504255 (coupang east app)\n",
    "    url = 'https://itunes.apple.com/us/rss/customerreviews/page=1/id=1445504255/sortby=mostrecent/xml'\n",
    "\n",
    "    try:\n",
    "        last_index = get_url_index(url)\n",
    "    except Exception as e:\n",
    "        print (url)\n",
    "        print ('\\tNo Reviews: appid 1445504255')\n",
    "        print ('\\tException:', e)\n",
    "        return\n",
    "\n",
    "    result = list()\n",
    "    for idx in range(1, last_index+1):\n",
    "        url = \"https://itunes.apple.com/us/rss/customerreviews/page=1/id=1445504255/sortby=mostrecent/xml?urlDesc=/customerreviews/id=1445504255/sortBy=mostRecent/xml\" \n",
    "        print(url)\n",
    "\n",
    "        response = requests.get(url).content.decode('utf8')\n",
    "        try:\n",
    "            xml = xmltodict.parse(response)\n",
    "        except Exception as e:\n",
    "            print ('\\tXml Parse Error %s\\n\\tSkip %s :' %(e, url))\n",
    "            continue\n",
    "\n",
    "        try:\n",
    "            num_reivews= len(xml['feed']['entry'])\n",
    "        except Exception as e:\n",
    "            print ('\\tNo Entry', e)\n",
    "            continue\n",
    "\n",
    "        try:\n",
    "            xml['feed']['entry'][0]['author']['name']\n",
    "            single_reviews = False\n",
    "        except:\n",
    "            single_reviews = True\n",
    "            pass\n",
    "\n",
    "        if single_reviews:\n",
    "                result.append({\n",
    "                    'STAR': int(xml['feed']['entry']['im:rating']),\n",
    "                    'REVIEW': xml['feed']['entry']['content'][0]['#text'],\n",
    "                })\n",
    "        else:\n",
    "            for i in range(len(xml['feed']['entry'])):\n",
    "                result.append({\n",
    "                    'STAR': int(xml['feed']['entry'][i]['im:rating']),\n",
    "                    'REVIEW': xml['feed']['entry'][i]['content'][0]['#text'],\n",
    "                })\n",
    "\n",
    "    res_df = pd.DataFrame(result)\n",
    "    res_df.to_csv(outfile, encoding='utf-8-sig', index=False)\n",
    "    print ('Save reviews to file: %s \\n' %(outfile))\n",
    "\n",
    "\n",
    "if __name__ == '__main__':\n",
    "    app_id = 1445504255\n",
    "    outfile = os.path.join('appstore' + str(app_id)+'.csv')\n",
    "    appstore_crawler(app_id, outfile=outfile)"
   ]
  },
  {
   "cell_type": "code",
   "execution_count": 4,
   "metadata": {},
   "outputs": [],
   "source": [
    "df = pd.read_csv(\"appstore1445504255.csv\")"
   ]
  },
  {
   "cell_type": "markdown",
   "metadata": {},
   "source": [
    "## 3. Translate the column from Korean to English."
   ]
  },
  {
   "cell_type": "code",
   "execution_count": 5,
   "metadata": {},
   "outputs": [
    {
     "name": "stdout",
     "output_type": "stream",
     "text": [
      "    STAR                                             REVIEW  \\\n",
      "0      5                                                조아요   \n",
      "1      1                       배달이 늦은걸 식당에서 조리가 늦었다고 핑계를 대고   \n",
      "2      5                                              BGETS   \n",
      "3      1  i’ve spent thousands and thousands of dollars ...   \n",
      "4      5    쿠팡이츠 타 돈네는 불편하다고 하네요! 근데 저희 동네는 쿠팡이츠가 가방 좋음 ㅋㅋㅋ   \n",
      "..   ...                                                ...   \n",
      "95     1    첫주문쿠폰 받으러더니 받을려고 들어가니\\n쿠폰이 다 떨어졌데... 장난하니? 바로삭제   \n",
      "96     4  The app itself is really fast and convenient t...   \n",
      "97     5                                                 히히   \n",
      "98     1  I was in love with this app and never had a co...   \n",
      "99     5                                     안되던되도 배달 되서 좋음   \n",
      "\n",
      "                                             FEEDBACK  \n",
      "0                                          Tighten up  \n",
      "1   The excuse that the delivery was late was beca...  \n",
      "2                                               BGETS  \n",
      "3   i’ve spent thousands and thousands of dollars ...  \n",
      "4   Coupang Eats Ta Donne says it’s inconvenient! ...  \n",
      "..                                                ...  \n",
      "95  I went in to get my first order coupon.\\nI'm o...  \n",
      "96  The app itself is really fast and convenient t...  \n",
      "97                                              Hi-Hi  \n",
      "98  I was in love with this app and never had a co...  \n",
      "99  Even if it doesn't work, it's good that it was...  \n",
      "\n",
      "[100 rows x 3 columns]\n"
     ]
    }
   ],
   "source": [
    "translator = Translator()\n",
    "\n",
    "df['FEEDBACK'] = df['REVIEW'].apply(lambda x: translator.translate(x, src='ko', dest='en').text)\n",
    "\n",
    "print(df)"
   ]
  },
  {
   "cell_type": "code",
   "execution_count": 6,
   "metadata": {},
   "outputs": [],
   "source": [
    "data = df.drop(columns = ['REVIEW'])"
   ]
  },
  {
   "cell_type": "code",
   "execution_count": 10,
   "metadata": {},
   "outputs": [
    {
     "data": {
      "text/html": [
       "<div>\n",
       "<style scoped>\n",
       "    .dataframe tbody tr th:only-of-type {\n",
       "        vertical-align: middle;\n",
       "    }\n",
       "\n",
       "    .dataframe tbody tr th {\n",
       "        vertical-align: top;\n",
       "    }\n",
       "\n",
       "    .dataframe thead th {\n",
       "        text-align: right;\n",
       "    }\n",
       "</style>\n",
       "<table border=\"1\" class=\"dataframe\">\n",
       "  <thead>\n",
       "    <tr style=\"text-align: right;\">\n",
       "      <th></th>\n",
       "      <th>STAR</th>\n",
       "      <th>REVIEW</th>\n",
       "      <th>FEEDBACK</th>\n",
       "    </tr>\n",
       "  </thead>\n",
       "  <tbody>\n",
       "    <tr>\n",
       "      <th>0</th>\n",
       "      <td>5</td>\n",
       "      <td>조아요</td>\n",
       "      <td>Tighten up</td>\n",
       "    </tr>\n",
       "    <tr>\n",
       "      <th>1</th>\n",
       "      <td>1</td>\n",
       "      <td>배달이 늦은걸 식당에서 조리가 늦었다고 핑계를 대고</td>\n",
       "      <td>The excuse that the delivery was late was beca...</td>\n",
       "    </tr>\n",
       "    <tr>\n",
       "      <th>2</th>\n",
       "      <td>5</td>\n",
       "      <td>BGETS</td>\n",
       "      <td>BGETS</td>\n",
       "    </tr>\n",
       "    <tr>\n",
       "      <th>3</th>\n",
       "      <td>1</td>\n",
       "      <td>i’ve spent thousands and thousands of dollars ...</td>\n",
       "      <td>i’ve spent thousands and thousands of dollars ...</td>\n",
       "    </tr>\n",
       "    <tr>\n",
       "      <th>4</th>\n",
       "      <td>5</td>\n",
       "      <td>쿠팡이츠 타 돈네는 불편하다고 하네요! 근데 저희 동네는 쿠팡이츠가 가방 좋음 ㅋㅋㅋ</td>\n",
       "      <td>Coupang Eats Ta Donne says it’s inconvenient! ...</td>\n",
       "    </tr>\n",
       "    <tr>\n",
       "      <th>...</th>\n",
       "      <td>...</td>\n",
       "      <td>...</td>\n",
       "      <td>...</td>\n",
       "    </tr>\n",
       "    <tr>\n",
       "      <th>95</th>\n",
       "      <td>1</td>\n",
       "      <td>첫주문쿠폰 받으러더니 받을려고 들어가니\\n쿠폰이 다 떨어졌데... 장난하니? 바로삭제</td>\n",
       "      <td>I went in to get my first order coupon.\\nI'm o...</td>\n",
       "    </tr>\n",
       "    <tr>\n",
       "      <th>96</th>\n",
       "      <td>4</td>\n",
       "      <td>The app itself is really fast and convenient t...</td>\n",
       "      <td>The app itself is really fast and convenient t...</td>\n",
       "    </tr>\n",
       "    <tr>\n",
       "      <th>97</th>\n",
       "      <td>5</td>\n",
       "      <td>히히</td>\n",
       "      <td>Hi-Hi</td>\n",
       "    </tr>\n",
       "    <tr>\n",
       "      <th>98</th>\n",
       "      <td>1</td>\n",
       "      <td>I was in love with this app and never had a co...</td>\n",
       "      <td>I was in love with this app and never had a co...</td>\n",
       "    </tr>\n",
       "    <tr>\n",
       "      <th>99</th>\n",
       "      <td>5</td>\n",
       "      <td>안되던되도 배달 되서 좋음</td>\n",
       "      <td>Even if it doesn't work, it's good that it was...</td>\n",
       "    </tr>\n",
       "  </tbody>\n",
       "</table>\n",
       "<p>100 rows × 3 columns</p>\n",
       "</div>"
      ],
      "text/plain": [
       "    STAR                                             REVIEW  \\\n",
       "0      5                                                조아요   \n",
       "1      1                       배달이 늦은걸 식당에서 조리가 늦었다고 핑계를 대고   \n",
       "2      5                                              BGETS   \n",
       "3      1  i’ve spent thousands and thousands of dollars ...   \n",
       "4      5    쿠팡이츠 타 돈네는 불편하다고 하네요! 근데 저희 동네는 쿠팡이츠가 가방 좋음 ㅋㅋㅋ   \n",
       "..   ...                                                ...   \n",
       "95     1    첫주문쿠폰 받으러더니 받을려고 들어가니\\n쿠폰이 다 떨어졌데... 장난하니? 바로삭제   \n",
       "96     4  The app itself is really fast and convenient t...   \n",
       "97     5                                                 히히   \n",
       "98     1  I was in love with this app and never had a co...   \n",
       "99     5                                     안되던되도 배달 되서 좋음   \n",
       "\n",
       "                                             FEEDBACK  \n",
       "0                                          Tighten up  \n",
       "1   The excuse that the delivery was late was beca...  \n",
       "2                                               BGETS  \n",
       "3   i’ve spent thousands and thousands of dollars ...  \n",
       "4   Coupang Eats Ta Donne says it’s inconvenient! ...  \n",
       "..                                                ...  \n",
       "95  I went in to get my first order coupon.\\nI'm o...  \n",
       "96  The app itself is really fast and convenient t...  \n",
       "97                                              Hi-Hi  \n",
       "98  I was in love with this app and never had a co...  \n",
       "99  Even if it doesn't work, it's good that it was...  \n",
       "\n",
       "[100 rows x 3 columns]"
      ]
     },
     "metadata": {},
     "output_type": "display_data"
    },
    {
     "data": {
      "text/plain": [
       "'English.ver'"
      ]
     },
     "metadata": {},
     "output_type": "display_data"
    },
    {
     "data": {
      "text/html": [
       "<div>\n",
       "<style scoped>\n",
       "    .dataframe tbody tr th:only-of-type {\n",
       "        vertical-align: middle;\n",
       "    }\n",
       "\n",
       "    .dataframe tbody tr th {\n",
       "        vertical-align: top;\n",
       "    }\n",
       "\n",
       "    .dataframe thead th {\n",
       "        text-align: right;\n",
       "    }\n",
       "</style>\n",
       "<table border=\"1\" class=\"dataframe\">\n",
       "  <thead>\n",
       "    <tr style=\"text-align: right;\">\n",
       "      <th></th>\n",
       "      <th>STAR</th>\n",
       "      <th>FEEDBACK</th>\n",
       "    </tr>\n",
       "  </thead>\n",
       "  <tbody>\n",
       "    <tr>\n",
       "      <th>0</th>\n",
       "      <td>5</td>\n",
       "      <td>Tighten up</td>\n",
       "    </tr>\n",
       "    <tr>\n",
       "      <th>1</th>\n",
       "      <td>1</td>\n",
       "      <td>The excuse that the delivery was late was beca...</td>\n",
       "    </tr>\n",
       "    <tr>\n",
       "      <th>2</th>\n",
       "      <td>5</td>\n",
       "      <td>BGETS</td>\n",
       "    </tr>\n",
       "    <tr>\n",
       "      <th>3</th>\n",
       "      <td>1</td>\n",
       "      <td>i’ve spent thousands and thousands of dollars ...</td>\n",
       "    </tr>\n",
       "    <tr>\n",
       "      <th>4</th>\n",
       "      <td>5</td>\n",
       "      <td>Coupang Eats Ta Donne says it’s inconvenient! ...</td>\n",
       "    </tr>\n",
       "    <tr>\n",
       "      <th>...</th>\n",
       "      <td>...</td>\n",
       "      <td>...</td>\n",
       "    </tr>\n",
       "    <tr>\n",
       "      <th>95</th>\n",
       "      <td>1</td>\n",
       "      <td>I went in to get my first order coupon.\\nI'm o...</td>\n",
       "    </tr>\n",
       "    <tr>\n",
       "      <th>96</th>\n",
       "      <td>4</td>\n",
       "      <td>The app itself is really fast and convenient t...</td>\n",
       "    </tr>\n",
       "    <tr>\n",
       "      <th>97</th>\n",
       "      <td>5</td>\n",
       "      <td>Hi-Hi</td>\n",
       "    </tr>\n",
       "    <tr>\n",
       "      <th>98</th>\n",
       "      <td>1</td>\n",
       "      <td>I was in love with this app and never had a co...</td>\n",
       "    </tr>\n",
       "    <tr>\n",
       "      <th>99</th>\n",
       "      <td>5</td>\n",
       "      <td>Even if it doesn't work, it's good that it was...</td>\n",
       "    </tr>\n",
       "  </tbody>\n",
       "</table>\n",
       "<p>100 rows × 2 columns</p>\n",
       "</div>"
      ],
      "text/plain": [
       "    STAR                                           FEEDBACK\n",
       "0      5                                         Tighten up\n",
       "1      1  The excuse that the delivery was late was beca...\n",
       "2      5                                              BGETS\n",
       "3      1  i’ve spent thousands and thousands of dollars ...\n",
       "4      5  Coupang Eats Ta Donne says it’s inconvenient! ...\n",
       "..   ...                                                ...\n",
       "95     1  I went in to get my first order coupon.\\nI'm o...\n",
       "96     4  The app itself is really fast and convenient t...\n",
       "97     5                                              Hi-Hi\n",
       "98     1  I was in love with this app and never had a co...\n",
       "99     5  Even if it doesn't work, it's good that it was...\n",
       "\n",
       "[100 rows x 2 columns]"
      ]
     },
     "metadata": {},
     "output_type": "display_data"
    }
   ],
   "source": [
    "display(df)\n",
    "display('English.ver', data)"
   ]
  },
  {
   "cell_type": "code",
   "execution_count": 11,
   "metadata": {},
   "outputs": [],
   "source": [
    "# save to csv\n",
    "data.to_csv('data.csv', index=False)"
   ]
  }
 ],
 "metadata": {
  "kernelspec": {
   "display_name": "Python 3 (ipykernel)",
   "language": "python",
   "name": "python3"
  },
  "language_info": {
   "codemirror_mode": {
    "name": "ipython",
    "version": 3
   },
   "file_extension": ".py",
   "mimetype": "text/x-python",
   "name": "python",
   "nbconvert_exporter": "python",
   "pygments_lexer": "ipython3",
   "version": "3.9.13"
  }
 },
 "nbformat": 4,
 "nbformat_minor": 1
}
